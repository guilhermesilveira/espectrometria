{
  "nbformat": 4,
  "nbformat_minor": 0,
  "metadata": {
    "colab": {
      "name": "Espectrometria",
      "provenance": [],
      "collapsed_sections": []
    },
    "kernelspec": {
      "name": "python3",
      "display_name": "Python 3"
    }
  },
  "cells": [
    {
      "cell_type": "code",
      "metadata": {
        "colab": {
          "base_uri": "https://localhost:8080/"
        },
        "id": "3ysUD6CtDKQA",
        "outputId": "e69b7acb-5b3b-453e-9640-7edf90a9e120"
      },
      "source": [
        "!pip uninstall scipy\n",
        "!pip install scipy==1.6.1"
      ],
      "execution_count": null,
      "outputs": [
        {
          "output_type": "stream",
          "text": [
            "Uninstalling scipy-1.6.1:\n",
            "  Would remove:\n",
            "    /usr/local/lib/python3.7/dist-packages/scipy-1.6.1.dist-info/*\n",
            "    /usr/local/lib/python3.7/dist-packages/scipy.libs/libgfortran-ed201abd.so.3.0.0\n",
            "    /usr/local/lib/python3.7/dist-packages/scipy.libs/libopenblasp-r0-085ca80a.3.9.so\n",
            "    /usr/local/lib/python3.7/dist-packages/scipy/*\n",
            "Proceed (y/n)? y\n",
            "  Successfully uninstalled scipy-1.6.1\n",
            "Collecting scipy==1.6.1\n",
            "  Using cached https://files.pythonhosted.org/packages/b6/3a/9e0649ab2d5ade703baa70ef980aa08739226e5d6a642f084bb201a92fc2/scipy-1.6.1-cp37-cp37m-manylinux1_x86_64.whl\n",
            "Requirement already satisfied: numpy>=1.16.5 in /usr/local/lib/python3.7/dist-packages (from scipy==1.6.1) (1.19.5)\n",
            "\u001b[31mERROR: albumentations 0.1.12 has requirement imgaug<0.2.7,>=0.2.5, but you'll have imgaug 0.2.9 which is incompatible.\u001b[0m\n",
            "Installing collected packages: scipy\n",
            "Successfully installed scipy-1.6.1\n"
          ],
          "name": "stdout"
        }
      ]
    },
    {
      "cell_type": "code",
      "metadata": {
        "id": "NkF6D24822nO"
      },
      "source": [
        "def _1gaussian(x, amp1,cen1,sigma1):\n",
        "    return amp1*(1/(sigma1*(np.sqrt(2*np.pi))))*(np.exp((-1.0/2.0)*(((x-cen1)/sigma1)**2)))\n"
      ],
      "execution_count": null,
      "outputs": []
    },
    {
      "cell_type": "code",
      "metadata": {
        "colab": {
          "base_uri": "https://localhost:8080/"
        },
        "id": "7q32Wt4RAFHZ",
        "outputId": "896ae3ad-86d5-4f4f-c5d7-16bb78b83cb6"
      },
      "source": [
        "import numpy as np\n",
        "\n",
        "x_array = np.linspace(1,100,50)\n",
        "x_array"
      ],
      "execution_count": null,
      "outputs": [
        {
          "output_type": "execute_result",
          "data": {
            "text/plain": [
              "array([  1.        ,   3.02040816,   5.04081633,   7.06122449,\n",
              "         9.08163265,  11.10204082,  13.12244898,  15.14285714,\n",
              "        17.16326531,  19.18367347,  21.20408163,  23.2244898 ,\n",
              "        25.24489796,  27.26530612,  29.28571429,  31.30612245,\n",
              "        33.32653061,  35.34693878,  37.36734694,  39.3877551 ,\n",
              "        41.40816327,  43.42857143,  45.44897959,  47.46938776,\n",
              "        49.48979592,  51.51020408,  53.53061224,  55.55102041,\n",
              "        57.57142857,  59.59183673,  61.6122449 ,  63.63265306,\n",
              "        65.65306122,  67.67346939,  69.69387755,  71.71428571,\n",
              "        73.73469388,  75.75510204,  77.7755102 ,  79.79591837,\n",
              "        81.81632653,  83.83673469,  85.85714286,  87.87755102,\n",
              "        89.89795918,  91.91836735,  93.93877551,  95.95918367,\n",
              "        97.97959184, 100.        ])"
            ]
          },
          "metadata": {
            "tags": []
          },
          "execution_count": 3
        }
      ]
    },
    {
      "cell_type": "code",
      "metadata": {
        "id": "YlhrqXuVAmzo"
      },
      "source": [
        "amp1 = 100\n",
        "sigma1 = 10\n",
        "cen1 = 50\n"
      ],
      "execution_count": null,
      "outputs": []
    },
    {
      "cell_type": "code",
      "metadata": {
        "id": "4J9BvH3tAziG"
      },
      "source": [
        "y = _1gaussian(x_array, amp1,cen1,sigma1)"
      ],
      "execution_count": null,
      "outputs": []
    },
    {
      "cell_type": "code",
      "metadata": {
        "colab": {
          "base_uri": "https://localhost:8080/"
        },
        "id": "58IbmH8xA2b-",
        "outputId": "ef1da680-8137-4c10-b409-b1c1a7adf161"
      },
      "source": [
        "_1gaussian(1, amp1,cen1,sigma1)"
      ],
      "execution_count": null,
      "outputs": [
        {
          "output_type": "execute_result",
          "data": {
            "text/plain": [
              "2.4389607458933523e-05"
            ]
          },
          "metadata": {
            "tags": []
          },
          "execution_count": 6
        }
      ]
    },
    {
      "cell_type": "code",
      "metadata": {
        "colab": {
          "base_uri": "https://localhost:8080/",
          "height": 283
        },
        "id": "ZmPTr5l8A_vn",
        "outputId": "8cf28fac-6be0-4dfd-8ddb-acaabdef15ac"
      },
      "source": [
        "import matplotlib.pyplot as plt\n",
        "\n",
        "plt.plot(x_array, y, \"ro\")"
      ],
      "execution_count": null,
      "outputs": [
        {
          "output_type": "execute_result",
          "data": {
            "text/plain": [
              "[<matplotlib.lines.Line2D at 0x7f1d1c83abd0>]"
            ]
          },
          "metadata": {
            "tags": []
          },
          "execution_count": 7
        },
        {
          "output_type": "display_data",
          "data": {
            "image/png": "[encoded data removed]",
            "text/plain": [
              "<Figure size 432x288 with 1 Axes>"
            ]
          },
          "metadata": {
            "tags": [],
            "needs_background": "light"
          }
        }
      ]
    },
    {
      "cell_type": "code",
      "metadata": {
        "colab": {
          "base_uri": "https://localhost:8080/"
        },
        "id": "G0BroL6vBfQZ",
        "outputId": "fdeb1e63-ebf3-4a68-896e-5bd6e36aecbe"
      },
      "source": [
        "y_noise_gauss = (np.exp((np.random.ranf(50))))/5\n",
        "y_noise_gauss"
      ],
      "execution_count": null,
      "outputs": [
        {
          "output_type": "execute_result",
          "data": {
            "text/plain": [
              "array([0.41941349, 0.3029286 , 0.22131771, 0.21248681, 0.33559131,\n",
              "       0.34239213, 0.26415778, 0.48421335, 0.24788799, 0.40296787,\n",
              "       0.29933907, 0.37137446, 0.49789462, 0.43359358, 0.39264384,\n",
              "       0.21021398, 0.46975526, 0.3179055 , 0.31364467, 0.33660002,\n",
              "       0.47087733, 0.34302887, 0.52122064, 0.51678288, 0.21050946,\n",
              "       0.43286957, 0.40673045, 0.53572606, 0.28111896, 0.33722653,\n",
              "       0.32986466, 0.48010149, 0.43753926, 0.32609969, 0.47063882,\n",
              "       0.39231755, 0.32327056, 0.25116544, 0.41367869, 0.47186333,\n",
              "       0.21608642, 0.29310983, 0.38327434, 0.32871374, 0.43143378,\n",
              "       0.38690616, 0.37276973, 0.26079994, 0.32549426, 0.48614322])"
            ]
          },
          "metadata": {
            "tags": []
          },
          "execution_count": 8
        }
      ]
    },
    {
      "cell_type": "code",
      "metadata": {
        "colab": {
          "base_uri": "https://localhost:8080/"
        },
        "id": "LAAeqm4RCSEk",
        "outputId": "c1be6682-93f4-4d60-9db8-0f20c3020097"
      },
      "source": [
        "y += y_noise_gauss\n",
        "y"
      ],
      "execution_count": null,
      "outputs": [
        {
          "output_type": "execute_result",
          "data": {
            "text/plain": [
              "array([0.41943788, 0.30299291, 0.2214805 , 0.21288244, 0.33651428,\n",
              "       0.34445923, 0.26860213, 0.49338668, 0.26606479, 0.43754429,\n",
              "       0.36248051, 0.48206763, 0.68418869, 0.73458156, 0.85948715,\n",
              "       0.90534236, 1.46339919, 1.68144725, 2.10994098, 2.60834409,\n",
              "       3.22899451, 3.55771007, 4.11817554, 4.38048788, 4.19474325,\n",
              "       4.37705708, 4.15509808, 3.95551017, 3.27632764, 2.85564194,\n",
              "       2.36268752, 2.05533011, 1.60935555, 1.16294918, 1.04436818,\n",
              "       0.76992336, 0.56185501, 0.39588176, 0.4979471 , 0.51897016,\n",
              "       0.2413663 , 0.30613364, 0.38971563, 0.33177203, 0.43282777,\n",
              "       0.38751613, 0.37302596, 0.26090327, 0.32553426, 0.48615809])"
            ]
          },
          "metadata": {
            "tags": []
          },
          "execution_count": 9
        }
      ]
    },
    {
      "cell_type": "code",
      "metadata": {
        "colab": {
          "base_uri": "https://localhost:8080/",
          "height": 283
        },
        "id": "zH1BiL6qCZZW",
        "outputId": "b86c8a37-058c-4ff8-be47-bca26f0d2f16"
      },
      "source": [
        "plt.plot(x_array, y, \"ro\")"
      ],
      "execution_count": null,
      "outputs": [
        {
          "output_type": "execute_result",
          "data": {
            "text/plain": [
              "[<matplotlib.lines.Line2D at 0x7f1d1c32a690>]"
            ]
          },
          "metadata": {
            "tags": []
          },
          "execution_count": 10
        },
        {
          "output_type": "display_data",
          "data": {
            "image/png": "[encoded data removed]",
            "text/plain": [
              "<Figure size 432x288 with 1 Axes>"
            ]
          },
          "metadata": {
            "tags": [],
            "needs_background": "light"
          }
        }
      ]
    },
    {
      "cell_type": "code",
      "metadata": {
        "colab": {
          "base_uri": "https://localhost:8080/"
        },
        "id": "f1wRkyGeCefw",
        "outputId": "28c83b6b-2676-4ed4-f4c0-df986f8a1597"
      },
      "source": [
        "x_array , y"
      ],
      "execution_count": null,
      "outputs": [
        {
          "output_type": "execute_result",
          "data": {
            "text/plain": [
              "(array([  1.        ,   3.02040816,   5.04081633,   7.06122449,\n",
              "          9.08163265,  11.10204082,  13.12244898,  15.14285714,\n",
              "         17.16326531,  19.18367347,  21.20408163,  23.2244898 ,\n",
              "         25.24489796,  27.26530612,  29.28571429,  31.30612245,\n",
              "         33.32653061,  35.34693878,  37.36734694,  39.3877551 ,\n",
              "         41.40816327,  43.42857143,  45.44897959,  47.46938776,\n",
              "         49.48979592,  51.51020408,  53.53061224,  55.55102041,\n",
              "         57.57142857,  59.59183673,  61.6122449 ,  63.63265306,\n",
              "         65.65306122,  67.67346939,  69.69387755,  71.71428571,\n",
              "         73.73469388,  75.75510204,  77.7755102 ,  79.79591837,\n",
              "         81.81632653,  83.83673469,  85.85714286,  87.87755102,\n",
              "         89.89795918,  91.91836735,  93.93877551,  95.95918367,\n",
              "         97.97959184, 100.        ]),\n",
              " array([0.41943788, 0.30299291, 0.2214805 , 0.21288244, 0.33651428,\n",
              "        0.34445923, 0.26860213, 0.49338668, 0.26606479, 0.43754429,\n",
              "        0.36248051, 0.48206763, 0.68418869, 0.73458156, 0.85948715,\n",
              "        0.90534236, 1.46339919, 1.68144725, 2.10994098, 2.60834409,\n",
              "        3.22899451, 3.55771007, 4.11817554, 4.38048788, 4.19474325,\n",
              "        4.37705708, 4.15509808, 3.95551017, 3.27632764, 2.85564194,\n",
              "        2.36268752, 2.05533011, 1.60935555, 1.16294918, 1.04436818,\n",
              "        0.76992336, 0.56185501, 0.39588176, 0.4979471 , 0.51897016,\n",
              "        0.2413663 , 0.30613364, 0.38971563, 0.33177203, 0.43282777,\n",
              "        0.38751613, 0.37302596, 0.26090327, 0.32553426, 0.48615809]))"
            ]
          },
          "metadata": {
            "tags": []
          },
          "execution_count": 11
        }
      ]
    },
    {
      "cell_type": "code",
      "metadata": {
        "colab": {
          "base_uri": "https://localhost:8080/"
        },
        "id": "AtO9-h3aCjoO",
        "outputId": "cc2f91df-6963-4a87-8238-262dada4220e"
      },
      "source": [
        "import scipy as scipy\n",
        "from scipy import optimize\n",
        "\n",
        "\n",
        "popt_gauss, pcov_gauss = scipy.optimize.curve_fit(_1gaussian, x_array, y, p0=[amp1, cen1, sigma1])\n",
        "perr_gauss = np.sqrt(np.diag(pcov_gauss))\n",
        "\n",
        "popt_gauss, pcov_gauss, perr_gauss"
      ],
      "execution_count": null,
      "outputs": [
        {
          "output_type": "execute_result",
          "data": {
            "text/plain": [
              "(array([122.60594021,  50.01744198,  11.47795025]),\n",
              " array([[ 7.81042176e+00, -1.27301482e-08,  4.87455694e-01],\n",
              "        [-1.27301482e-08,  9.12676314e-02, -5.24692687e-09],\n",
              "        [ 4.87455694e-01, -5.24692687e-09,  9.12676667e-02]]),\n",
              " array([2.79471318, 0.30210533, 0.30210539]))"
            ]
          },
          "metadata": {
            "tags": []
          },
          "execution_count": 12
        }
      ]
    },
    {
      "cell_type": "code",
      "metadata": {
        "colab": {
          "base_uri": "https://localhost:8080/",
          "height": 283
        },
        "id": "_r9mxiWUC51P",
        "outputId": "edd5f66f-70c6-4fbb-ae3a-62d26beea934"
      },
      "source": [
        "plt.plot(x_array, y, \"ro\")\n",
        "plt.plot(x_array, _1gaussian(x_array, popt_gauss[0], popt_gauss[1], popt_gauss[2]), \"k--\")"
      ],
      "execution_count": null,
      "outputs": [
        {
          "output_type": "execute_result",
          "data": {
            "text/plain": [
              "[<matplotlib.lines.Line2D at 0x7f1d09670190>]"
            ]
          },
          "metadata": {
            "tags": []
          },
          "execution_count": 14
        },
        {
          "output_type": "display_data",
          "data": {
            "image/png": "[encoded data removed]",
            "text/plain": [
              "<Figure size 432x288 with 1 Axes>"
            ]
          },
          "metadata": {
            "tags": [],
            "needs_background": "light"
          }
        }
      ]
    },
    {
      "cell_type": "code",
      "metadata": {
        "id": "ck7cEtntEuLg"
      },
      "source": [
        "amp1 = 100\n",
        "sigma1 = 10\n",
        "cen1 = 40\n",
        "\n",
        "amp2 = 75\n",
        "sigma2 = 5\n",
        "cen2 = 65"
      ],
      "execution_count": null,
      "outputs": []
    },
    {
      "cell_type": "code",
      "metadata": {
        "colab": {
          "base_uri": "https://localhost:8080/",
          "height": 283
        },
        "id": "CMelMQS4D7H8",
        "outputId": "05e01144-dc02-4bc4-fa03-51b6c2f36e33"
      },
      "source": [
        "plt.plot(x_array, _1gaussian(x_array, amp1, cen1, sigma1), \"r--\")\n",
        "plt.plot(x_array, _1gaussian(x_array, amp2, cen2, sigma2), \"k--\")"
      ],
      "execution_count": null,
      "outputs": [
        {
          "output_type": "execute_result",
          "data": {
            "text/plain": [
              "[<matplotlib.lines.Line2D at 0x7f1d096c0e50>]"
            ]
          },
          "metadata": {
            "tags": []
          },
          "execution_count": 16
        },
        {
          "output_type": "display_data",
          "data": {
            "image/png": "[encoded data removed]",
            "text/plain": [
              "<Figure size 432x288 with 1 Axes>"
            ]
          },
          "metadata": {
            "tags": [],
            "needs_background": "light"
          }
        }
      ]
    },
    {
      "cell_type": "code",
      "metadata": {
        "colab": {
          "base_uri": "https://localhost:8080/",
          "height": 283
        },
        "id": "EPLkkrHrE0n_",
        "outputId": "06124178-c0e5-4d66-86c4-b0df4a3c20f5"
      },
      "source": [
        "plt.plot(x_array, _1gaussian(x_array, amp1, cen1, sigma1), \"r--\")\n",
        "plt.plot(x_array, _1gaussian(x_array, amp2, cen2, sigma2), \"k--\")\n",
        "plt.plot(x_array, _1gaussian(x_array, amp1, cen1, sigma1) + _1gaussian(x_array, amp2, cen2, sigma2), \"b--\")"
      ],
      "execution_count": null,
      "outputs": [
        {
          "output_type": "execute_result",
          "data": {
            "text/plain": [
              "[<matplotlib.lines.Line2D at 0x7f1d09561dd0>]"
            ]
          },
          "metadata": {
            "tags": []
          },
          "execution_count": 17
        },
        {
          "output_type": "display_data",
          "data": {
            "image/png": "[encoded data removed]",
            "text/plain": [
              "<Figure size 432x288 with 1 Axes>"
            ]
          },
          "metadata": {
            "tags": [],
            "needs_background": "light"
          }
        }
      ]
    },
    {
      "cell_type": "code",
      "metadata": {
        "id": "TuWL1A-MFBeP"
      },
      "source": [
        "def _2gaussian(x, amp1,cen1,sigma1, amp2,cen2,sigma2):\n",
        "    return amp1*(1/(sigma1*(np.sqrt(2*np.pi))))*(np.exp((-1.0/2.0)*(((x_array-cen1)/sigma1)**2))) + \\\n",
        "            amp2*(1/(sigma2*(np.sqrt(2*np.pi))))*(np.exp((-1.0/2.0)*(((x_array-cen2)/sigma2)**2)))"
      ],
      "execution_count": null,
      "outputs": []
    },
    {
      "cell_type": "code",
      "metadata": {
        "id": "xmG66GzAFV7k"
      },
      "source": [
        "y_array_2gauss = _2gaussian(x_array, amp1, cen1, sigma1, amp2, cen2, sigma2)\n",
        "\n",
        "# creating some noise to add the the y-axis data\n",
        "y_noise_2gauss = (np.exp((np.random.ranf(50))))/5\n",
        "y_array_2gauss += y_noise_2gauss\n"
      ],
      "execution_count": null,
      "outputs": []
    },
    {
      "cell_type": "code",
      "metadata": {
        "id": "h4UMgdp-FRhW"
      },
      "source": [
        "popt_2gauss, pcov_2gauss = scipy.optimize.curve_fit(_2gaussian, x_array, y_array_2gauss, p0=[amp1, cen1, sigma1, amp2, cen2, sigma2])\n",
        "perr_2gauss = np.sqrt(np.diag(pcov_2gauss))\n",
        "pars_1 = popt_2gauss[0:3]\n",
        "pars_2 = popt_2gauss[3:6]\n",
        "gauss_peak_1 = _1gaussian(x_array, *pars_1)\n",
        "gauss_peak_2 = _1gaussian(x_array, *pars_2)\n"
      ],
      "execution_count": null,
      "outputs": []
    },
    {
      "cell_type": "code",
      "metadata": {
        "colab": {
          "base_uri": "https://localhost:8080/"
        },
        "id": "i30QGscHFakv",
        "outputId": "f4363423-f42a-44a4-8614-a631cfb09bd9"
      },
      "source": [
        "pars_1"
      ],
      "execution_count": null,
      "outputs": [
        {
          "output_type": "execute_result",
          "data": {
            "text/plain": [
              "array([116.371113  ,  39.61213819,  11.05163544])"
            ]
          },
          "metadata": {
            "tags": []
          },
          "execution_count": 22
        }
      ]
    },
    {
      "cell_type": "code",
      "metadata": {
        "colab": {
          "base_uri": "https://localhost:8080/"
        },
        "id": "i4z1w3kdFdpo",
        "outputId": "5dfa2d8e-6d11-44d6-a6bf-acd179b0c15e"
      },
      "source": [
        "pars_2"
      ],
      "execution_count": null,
      "outputs": [
        {
          "output_type": "execute_result",
          "data": {
            "text/plain": [
              "array([79.88747968, 65.14615427,  5.2414383 ])"
            ]
          },
          "metadata": {
            "tags": []
          },
          "execution_count": 23
        }
      ]
    },
    {
      "cell_type": "code",
      "metadata": {
        "colab": {
          "base_uri": "https://localhost:8080/",
          "height": 283
        },
        "id": "lIMVrPXPFpK3",
        "outputId": "a9b09cda-9003-476a-eddc-4fc4f64b6df2"
      },
      "source": [
        "plt.plot(x_array, _1gaussian(x_array, amp1, cen1, sigma1), \"r--\")\n",
        "plt.plot(x_array, _1gaussian(x_array, amp2, cen2, sigma2), \"k--\")\n",
        "plt.plot(x_array, _1gaussian(x_array, amp1, cen1, sigma1) + _1gaussian(x_array, amp2, cen2, sigma2), \"b--\")"
      ],
      "execution_count": null,
      "outputs": [
        {
          "output_type": "execute_result",
          "data": {
            "text/plain": [
              "[<matplotlib.lines.Line2D at 0x7f1d094f2090>]"
            ]
          },
          "metadata": {
            "tags": []
          },
          "execution_count": 24
        },
        {
          "output_type": "display_data",
          "data": {
            "image/png": "[encoded data removed]",
            "text/plain": [
              "<Figure size 432x288 with 1 Axes>"
            ]
          },
          "metadata": {
            "tags": [],
            "needs_background": "light"
          }
        }
      ]
    },
    {
      "cell_type": "code",
      "metadata": {
        "id": "cf9I4caXF0Tf"
      },
      "source": [
        ""
      ],
      "execution_count": null,
      "outputs": []
    }
  ]
}